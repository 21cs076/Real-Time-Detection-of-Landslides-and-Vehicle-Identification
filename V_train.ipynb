{
  "cells": [
    {
      "cell_type": "markdown",
      "metadata": {
        "id": "view-in-github",
        "colab_type": "text"
      },
      "source": [
        "<a href=\"https://colab.research.google.com/github/21cs076/Detection-of-Landslides/blob/main/train2.ipynb\" target=\"_parent\"><img src=\"https://colab.research.google.com/assets/colab-badge.svg\" alt=\"Open In Colab\"/></a>"
      ]
    },
    {
      "cell_type": "code",
      "source": [
        "!pip install ultralytics==8.3.72"
      ],
      "metadata": {
        "id": "AQSpl-Z6Tzbx"
      },
      "execution_count": null,
      "outputs": []
    },
    {
      "cell_type": "code",
      "source": [
        "from ultralytics import YOLO\n",
        "from google.colab import files\n",
        "\n",
        "model = YOLO(\"yolov10s.pt\")\n",
        "model.train(\n",
        "    data = \"/content/drive/MyDrive/Vehicle_Dataset/data.yaml\",  # Path to your data.yaml file\n",
        "    epochs=80,  # Number of epochs (adjust based on your needs)\n",
        "    batch=16,   # Batch size (adjust based on GPU memory), (16), 32, 64, 128\n",
        "    imgsz=640,  # Image size for training ((640 is a good choice), 736)\n",
        "    project = \"/content/drive/MyDrive/Vehicle_Dataset\",  # Directory to save training results\n",
        "    name=\"runs\",  # Name for the training run\n",
        "    exist_ok=True,  # Overwrite existing results if any\n",
        "    save_period=10         # Save the model every 10 epochs\n",
        ")\n",
        "files.download(\"/content/drive/MyDrive/Vehicle_Dataset/runs/weights/best.pt\")"
      ],
      "metadata": {
        "id": "9kJHSfg-UUWX"
      },
      "execution_count": null,
      "outputs": []
    },
    {
      "cell_type": "code",
      "source": [
        "from ultralytics import YOLO\n",
        "model = YOLO(\"/content/drive/MyDrive/Vehicle_Dataset/runs/weights/best.pt\")\n",
        "#model = YOLO(\"/content/drive/MyDrive/models/lbest70m.pt\")\n",
        "\n",
        "tuned_conf = 0.25  # Increase confidence threshold to reduce false positives\n",
        "tuned_iou  = 0.45  # Adjust NMS IoU threshold to control box suppression behavior\n",
        "\n",
        "metrics = model.val(data=\"/content/drive/MyDrive/Vehicle_Dataset/data.yaml\", split='test')\n",
        "#metrics = model.val(data=\"/content/drive/MyDrive/Vehicle_Dataset/data.yaml\", split='test', conf=tuned_conf, iou=tuned_iou)\n",
        "\n",
        "print(f\"mAP50: {metrics.box.map50}\")  # Average Precision at IoU 0.5\n",
        "print(f\"mAP75: {metrics.box.map75}\")  # Average Precision at IoU 0.75"
      ],
      "metadata": {
        "id": "BcE-u5eqU6t8"
      },
      "execution_count": null,
      "outputs": []
    },
    {
      "cell_type": "code",
      "source": [
        "from google.colab import drive\n",
        "drive.mount('/content/drive')"
      ],
      "metadata": {
        "id": "Gk7m7NO75Pd2"
      },
      "execution_count": null,
      "outputs": []
    }
  ],
  "metadata": {
    "language_info": {
      "name": "python"
    },
    "colab": {
      "provenance": [],
      "gpuType": "T4",
      "include_colab_link": true
    },
    "kernelspec": {
      "name": "python3",
      "display_name": "Python 3"
    },
    "accelerator": "GPU"
  },
  "nbformat": 4,
  "nbformat_minor": 0
}