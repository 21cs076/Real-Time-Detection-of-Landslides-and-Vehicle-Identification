{
  "cells": [
    {
      "cell_type": "markdown",
      "metadata": {
        "id": "view-in-github",
        "colab_type": "text"
      },
      "source": [
        "<a href=\"https://colab.research.google.com/github/21cs076/Real-Time-Detection-of-Landslides-and-Vehicle-Identification/blob/main/V_train.ipynb\" target=\"_parent\"><img src=\"https://colab.research.google.com/assets/colab-badge.svg\" alt=\"Open In Colab\"/></a>"
      ]
    },
    {
      "cell_type": "code",
      "source": [
        "from ultralytics import YOLO\n",
        "from google.colab import files\n",
        "\n",
        "model = YOLO(\"yolov10s.pt\")\n",
        "model.train(\n",
        "    data = \"/content/drive/MyDrive/Vehicle_Dataset/data.yaml\",\n",
        "    epochs=80,\n",
        "    batch=16,\n",
        "    imgsz=640,\n",
        "    project = \"/content/drive/MyDrive/Vehicle_Dataset\",\n",
        "    name=\"runs\",\n",
        "    exist_ok=True,\n",
        "    save_period=10\n",
        ")\n",
        "files.download(\"/content/drive/MyDrive/Vehicle_Dataset/runs/weights/best.pt\")"
      ],
      "metadata": {
        "id": "9kJHSfg-UUWX"
      },
      "execution_count": null,
      "outputs": []
    },
    {
      "cell_type": "code",
      "source": [
        "from ultralytics import YOLO\n",
        "model = YOLO(\"/content/drive/MyDrive/Vehicle_Dataset/runs/weights/best.pt\")\n",
        "\n",
        "metrics = model.val(data=\"/content/drive/MyDrive/Vehicle_Dataset/data.yaml\", split='test')\n",
        "\n",
        "print(f\"mAP50: {metrics.box.map50}\")\n",
        "print(f\"mAP75: {metrics.box.map75}\")"
      ],
      "metadata": {
        "id": "BcE-u5eqU6t8"
      },
      "execution_count": null,
      "outputs": []
    }
  ],
  "metadata": {
    "language_info": {
      "name": "python"
    },
    "colab": {
      "provenance": [],
      "gpuType": "T4",
      "include_colab_link": true
    },
    "kernelspec": {
      "name": "python3",
      "display_name": "Python 3"
    },
    "accelerator": "GPU"
  },
  "nbformat": 4,
  "nbformat_minor": 0
}