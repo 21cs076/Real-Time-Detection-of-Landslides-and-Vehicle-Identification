{
  "cells": [
    {
      "cell_type": "markdown",
      "metadata": {
        "id": "view-in-github",
        "colab_type": "text"
      },
      "source": [
        "<a href=\"https://colab.research.google.com/github/21cs076/Real-Time-Detection-of-Landslides-and-Vehicle-Identification/blob/main/Train/L_train.ipynb\" target=\"_parent\"><img src=\"https://colab.research.google.com/assets/colab-badge.svg\" alt=\"Open In Colab\"/></a>"
      ]
    },
    {
      "cell_type": "code",
      "execution_count": null,
      "metadata": {
        "id": "SdGtmANZkgdz"
      },
      "outputs": [],
      "source": [
        "from ultralytics import YOLO\n",
        "from google.colab import files\n",
        "\n",
        "model = YOLO(\"yolov8s.pt\")\n",
        "model.train(\n",
        "    data = \"/content/drive/MyDrive/Landslide_Dataset/data.yaml\",\n",
        "    epochs=80,\n",
        "    batch=16,\n",
        "    imgsz=640,\n",
        "    project = \"/content/drive/MyDrive/Landslide_Dataset\",\n",
        "    name=\"runs\",\n",
        "    exist_ok=True,\n",
        "    save_period=10\n",
        ")\n",
        "files.download(\"/content/drive/MyDrive/Landslide_Dataset/runs/weights/best.pt\")"
      ]
    },
    {
      "cell_type": "code",
      "source": [
        "from ultralytics import YOLO\n",
        "model = YOLO(\"/content/drive/MyDrive/Landslide_Dataset/runs/weights/best.pt\")\n",
        "\n",
        "metrics = model.val(data=\"/content/drive/MyDrive/Landslide_Dataset/data.yaml\", split='test')\n",
        "\n",
        "print(f\"mAP50: {metrics.box.map50}\")\n",
        "print(f\"mAP75: {metrics.box.map75}\")"
      ],
      "metadata": {
        "id": "cOXFPBdjL6OW"
      },
      "execution_count": null,
      "outputs": []
    }
  ],
  "metadata": {
    "accelerator": "GPU",
    "colab": {
      "gpuType": "T4",
      "provenance": [],
      "include_colab_link": true
    },
    "kernelspec": {
      "display_name": "Python 3",
      "name": "python3"
    },
    "language_info": {
      "name": "python"
    }
  },
  "nbformat": 4,
  "nbformat_minor": 0
}